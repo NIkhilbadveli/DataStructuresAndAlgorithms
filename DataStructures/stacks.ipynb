{
 "cells": [
  {
   "cell_type": "code",
   "execution_count": 5,
   "metadata": {
    "collapsed": true,
    "pycharm": {
     "name": "#%%\n"
    }
   },
   "outputs": [],
   "source": [
    "class Node:\n",
    "    def __init__(self, val):\n",
    "        self.val = val  # Accessible via dot access\n",
    "        self.next = None\n",
    "\n",
    "\n",
    "class Stack:\n",
    "    def __init__(self, max_size=None):\n",
    "        self.top_item = None\n",
    "        self.size = 0\n",
    "        self.max_size = max_size\n",
    "\n",
    "    def push(self, val):\n",
    "        new_node = Node(val)\n",
    "        if self.has_space():\n",
    "            if self.top_item is None:\n",
    "                self.top_item = new_node\n",
    "            else:\n",
    "                new_node.next = self.top_item\n",
    "                self.top_item = new_node\n",
    "            print(f'Successfully pushed {val} onto stack!')\n",
    "            self.size += 1\n",
    "        else:\n",
    "            print('No more space to push in the stack!')\n",
    "\n",
    "    def pop(self):\n",
    "        if self.is_empty():\n",
    "            print('Empty stack!')\n",
    "        else:\n",
    "            removed_node = self.top_item\n",
    "            if self.size == 1:\n",
    "                self.top_item = None\n",
    "            else:\n",
    "                self.top_item = removed_node.next\n",
    "            self.size -= 1\n",
    "            print(f'Successfully popped {removed_node.val} from stack!')\n",
    "            return removed_node.val\n",
    "\n",
    "    def peek(self):\n",
    "        if self.size > 0:\n",
    "            return self.top_item.val\n",
    "        else:\n",
    "            print('Nothing to peek at!')\n",
    "\n",
    "    def get_size(self):\n",
    "        return self.size\n",
    "\n",
    "    def is_empty(self):\n",
    "        return self.size == 0\n",
    "\n",
    "    def has_space(self):\n",
    "        return self.size < self.max_size"
   ]
  },
  {
   "cell_type": "code",
   "execution_count": 6,
   "outputs": [
    {
     "name": "stdout",
     "output_type": "stream",
     "text": [
      "Successfully pushed pizza #1 onto stack!\n",
      "Successfully pushed pizza #2 onto stack!\n",
      "Successfully pushed pizza #3 onto stack!\n",
      "Successfully pushed pizza #4 onto stack!\n",
      "Successfully pushed pizza #5 onto stack!\n",
      "Successfully pushed pizza #6 onto stack!\n",
      "No more space to push in the stack!\n",
      "\n",
      "The first pizza to deliver is pizza #6\n",
      "Successfully popped pizza #6 from stack!\n",
      "Successfully popped pizza #5 from stack!\n",
      "Successfully popped pizza #4 from stack!\n",
      "Successfully popped pizza #3 from stack!\n",
      "Successfully popped pizza #2 from stack!\n",
      "Successfully popped pizza #1 from stack!\n",
      "Empty stack!\n"
     ]
    }
   ],
   "source": [
    "# Defining an empty pizza stack\n",
    "pizza_stack = Stack(6)\n",
    "# Adding pizzas as they are ready until we have\n",
    "pizza_stack.push(\"pizza #1\")\n",
    "pizza_stack.push(\"pizza #2\")\n",
    "pizza_stack.push(\"pizza #3\")\n",
    "pizza_stack.push(\"pizza #4\")\n",
    "pizza_stack.push(\"pizza #5\")\n",
    "pizza_stack.push(\"pizza #6\")\n",
    "\n",
    "# Uncomment the push() statement below:\n",
    "pizza_stack.push(\"pizza #7\")\n",
    "\n",
    "# Delivering pizzas from the top of the stack down\n",
    "print(\"\\nThe first pizza to deliver is \" + pizza_stack.peek())\n",
    "pizza_stack.pop()\n",
    "pizza_stack.pop()\n",
    "pizza_stack.pop()\n",
    "pizza_stack.pop()\n",
    "pizza_stack.pop()\n",
    "pizza_stack.pop()\n",
    "\n",
    "# Uncomment the pop() statement below:\n",
    "pizza_stack.pop()"
   ],
   "metadata": {
    "collapsed": false,
    "pycharm": {
     "name": "#%%\n"
    }
   }
  },
  {
   "cell_type": "code",
   "execution_count": null,
   "outputs": [],
   "source": [],
   "metadata": {
    "collapsed": false,
    "pycharm": {
     "name": "#%%\n"
    }
   }
  }
 ],
 "metadata": {
  "kernelspec": {
   "display_name": "Python 3",
   "language": "python",
   "name": "python3"
  },
  "language_info": {
   "codemirror_mode": {
    "name": "ipython",
    "version": 2
   },
   "file_extension": ".py",
   "mimetype": "text/x-python",
   "name": "python",
   "nbconvert_exporter": "python",
   "pygments_lexer": "ipython2",
   "version": "2.7.6"
  }
 },
 "nbformat": 4,
 "nbformat_minor": 0
}