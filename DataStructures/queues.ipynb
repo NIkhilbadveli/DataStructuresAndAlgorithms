{
 "cells": [
  {
   "cell_type": "code",
   "execution_count": 1,
   "metadata": {
    "collapsed": true,
    "pycharm": {
     "name": "#%%\n"
    }
   },
   "outputs": [],
   "source": [
    "class Node:\n",
    "    def __init__(self, val):\n",
    "        self.val = val  # Accessible via dot access\n",
    "        self.next = None\n",
    "\n",
    "\n",
    "# Define a queue class and its corresponding methods using nodes from linked lists\n",
    "class Queue:\n",
    "    def __init__(self, max_size=None):\n",
    "        self.head = None  # Probably, head is to easily peek or dequeue items.\n",
    "        self.tail = None  # What's the point of having a tail? Maybe to add new items?\n",
    "        self.size = 0\n",
    "        self.max_size = max_size\n",
    "\n",
    "    def enqueue(self, val):\n",
    "        new_node = Node(val)\n",
    "        if self.is_empty():  # First time adding to queue\n",
    "            self.head = new_node\n",
    "            self.tail = new_node\n",
    "            self.size += 1\n",
    "        elif self.has_space():\n",
    "            self.tail.next = new_node\n",
    "            self.tail = new_node\n",
    "            self.size += 1\n",
    "        else:\n",
    "            print('No more space in the queue!')\n",
    "\n",
    "    def dequeue(self):\n",
    "        if self.is_empty():\n",
    "            print('Empty queue!')\n",
    "        else:\n",
    "            # return the value of the head\n",
    "            removed_node = self.head\n",
    "            if self.size == 1:\n",
    "                self.head = None\n",
    "                self.tail = None\n",
    "            else:\n",
    "                self.head = self.head.next\n",
    "            self.size -= 1\n",
    "            return removed_node.val\n",
    "\n",
    "    def peek(self):\n",
    "        if not self.is_empty():\n",
    "            return self.head.val\n",
    "        else:\n",
    "            print('Nothing to peek at!')\n",
    "\n",
    "    def get_size(self):\n",
    "        return self.size\n",
    "\n",
    "    def has_space(self):\n",
    "        return self.size < self.max_size\n",
    "\n",
    "    def is_empty(self):\n",
    "        return self.size == 0"
   ]
  },
  {
   "cell_type": "code",
   "execution_count": 2,
   "outputs": [
    {
     "name": "stdout",
     "output_type": "stream",
     "text": [
      "Creating a deli line with up to 10 orders...\n",
      "------------\n",
      "Adding orders to our deli line...\n",
      "------------\n",
      "No more space in the queue!\n",
      "------------\n",
      "Our first order will be egg and cheese on a roll\n",
      "------------\n",
      "Now serving...\n",
      "------------\n",
      "Empty queue!\n"
     ]
    }
   ],
   "source": [
    "# Test the queue functionality\n",
    "print(\"Creating a deli line with up to 10 orders...\\n------------\")\n",
    "deli_line = Queue(max_size=10)\n",
    "print(\"Adding orders to our deli line...\\n------------\")\n",
    "deli_line.enqueue(\"egg and cheese on a roll\")\n",
    "deli_line.enqueue(\"bacon, egg, and cheese on a roll\")\n",
    "deli_line.enqueue(\"toasted sesame bagel with butter and jelly\")\n",
    "deli_line.enqueue(\"toasted roll with butter\")\n",
    "deli_line.enqueue(\"bacon, egg, and cheese on a plain bagel\")\n",
    "deli_line.enqueue(\"two fried eggs with home fries and ketchup\")\n",
    "deli_line.enqueue(\"egg and cheese on a roll with jalapeos\")\n",
    "deli_line.enqueue(\"plain bagel with plain cream cheese\")\n",
    "deli_line.enqueue(\"blueberry muffin toasted with butter\")\n",
    "deli_line.enqueue(\"bacon, egg, and cheese on a roll\")\n",
    "# ------------------------ #\n",
    "# Uncomment the line below:\n",
    "deli_line.enqueue(\"western omelet with home fries\")\n",
    "# ------------------------ #\n",
    "print(\"------------\\nOur first order will be \" + deli_line.peek())\n",
    "print(\"------------\\nNow serving...\\n------------\")\n",
    "deli_line.dequeue()\n",
    "deli_line.dequeue()\n",
    "deli_line.dequeue()\n",
    "deli_line.dequeue()\n",
    "deli_line.dequeue()\n",
    "deli_line.dequeue()\n",
    "deli_line.dequeue()\n",
    "deli_line.dequeue()\n",
    "deli_line.dequeue()\n",
    "deli_line.dequeue()\n",
    "# ------------------------ #\n",
    "# Uncomment the line below:\n",
    "deli_line.dequeue()\n",
    "# ------------------------ #"
   ],
   "metadata": {
    "collapsed": false,
    "pycharm": {
     "name": "#%%\n"
    }
   }
  },
  {
   "cell_type": "code",
   "execution_count": null,
   "outputs": [],
   "source": [],
   "metadata": {
    "collapsed": false,
    "pycharm": {
     "name": "#%%\n"
    }
   }
  }
 ],
 "metadata": {
  "kernelspec": {
   "display_name": "Python 3",
   "language": "python",
   "name": "python3"
  },
  "language_info": {
   "codemirror_mode": {
    "name": "ipython",
    "version": 2
   },
   "file_extension": ".py",
   "mimetype": "text/x-python",
   "name": "python",
   "nbconvert_exporter": "python",
   "pygments_lexer": "ipython2",
   "version": "2.7.6"
  }
 },
 "nbformat": 4,
 "nbformat_minor": 0
}