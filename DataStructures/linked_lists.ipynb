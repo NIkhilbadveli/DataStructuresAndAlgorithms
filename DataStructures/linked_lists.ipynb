{
 "cells": [
  {
   "cell_type": "markdown",
   "source": [
    "# Singly Linked List"
   ],
   "metadata": {
    "collapsed": false,
    "pycharm": {
     "name": "#%% md\n"
    }
   }
  },
  {
   "cell_type": "code",
   "execution_count": 1,
   "metadata": {
    "collapsed": true,
    "pycharm": {
     "name": "#%%\n"
    }
   },
   "outputs": [],
   "source": [
    "# Create a Singly Linked Node class\n",
    "class Node:\n",
    "    def __init__(self, val):\n",
    "        self.val = val  # Accessible via dot access\n",
    "        self.next = None\n",
    "\n",
    "\n",
    "# Create a LinkedList class\n",
    "class LinkedList:\n",
    "    def __init__(self, val=None):\n",
    "        self.head = None\n",
    "        if val:\n",
    "            self.head = Node(val)\n",
    "\n",
    "    # Method to get length of the linked list\n",
    "    def size(self):\n",
    "        cur_node = self.head\n",
    "        count = 0\n",
    "        while cur_node:\n",
    "            count += 1\n",
    "            cur_node = cur_node.next\n",
    "        return count\n",
    "\n",
    "    # Method to insert value at position\n",
    "    def insert(self, val, pos=None):\n",
    "        \"\"\"\n",
    "        val: Value to be inserted\n",
    "        pos: Position in the linked list [0, N-1]\n",
    "        \"\"\"\n",
    "        new_node = Node(val)\n",
    "        cur_node = self.head\n",
    "        cur_pos = 0\n",
    "        while cur_node.next:\n",
    "            # If the current position is the desired position\n",
    "            if pos and cur_pos == pos - 1:\n",
    "                new_node.next = cur_node.next\n",
    "                cur_node.next = new_node\n",
    "                return\n",
    "            cur_pos += 1\n",
    "            cur_node = cur_node.next\n",
    "\n",
    "        if pos is None:  # Insert at the tail\n",
    "            cur_node.next = new_node\n",
    "        # If pos == 0... to be inserted at the beginning\n",
    "        elif pos == 0:\n",
    "            new_node.next = self.head\n",
    "            self.head = new_node\n",
    "\n",
    "    # Method to remove a node with given value\n",
    "    def remove(self, val):\n",
    "        prev_node = None\n",
    "        cur_node = self.head\n",
    "        while cur_node:\n",
    "            if cur_node.val == val:\n",
    "                # In case value is found at the beginning, we need to change the head\n",
    "                if prev_node is None:\n",
    "                    self.head = cur_node.next\n",
    "                else:\n",
    "                    prev_node.next = cur_node.next\n",
    "                cur_node.next = None\n",
    "                print('Successfully removed the node with the given value!')\n",
    "                return True\n",
    "            prev_node = cur_node\n",
    "            cur_node = cur_node.next\n",
    "\n",
    "        print(\"Didn't find the node with the given value!\")\n",
    "        return False\n",
    "\n",
    "    # Print the linked list in order\n",
    "    def traverse(self):\n",
    "        cur_node = self.head\n",
    "        while cur_node:\n",
    "            print(cur_node.val, end='-->')\n",
    "            cur_node = cur_node.next\n",
    "\n"
   ]
  },
  {
   "cell_type": "markdown",
   "source": [
    "### Test with inputs"
   ],
   "metadata": {
    "collapsed": false,
    "pycharm": {
     "name": "#%% md\n"
    }
   }
  },
  {
   "cell_type": "code",
   "execution_count": 2,
   "outputs": [
    {
     "data": {
      "text/plain": "1"
     },
     "execution_count": 2,
     "metadata": {},
     "output_type": "execute_result"
    }
   ],
   "source": [
    "my_linked_list = LinkedList(val=34)\n",
    "my_linked_list.size()"
   ],
   "metadata": {
    "collapsed": false,
    "pycharm": {
     "name": "#%%\n"
    }
   }
  },
  {
   "cell_type": "code",
   "execution_count": 3,
   "outputs": [
    {
     "name": "stdout",
     "output_type": "stream",
     "text": [
      "34-->12-->15-->"
     ]
    }
   ],
   "source": [
    "my_linked_list.insert(val=12)\n",
    "my_linked_list.insert(val=15)\n",
    "my_linked_list.traverse()"
   ],
   "metadata": {
    "collapsed": false,
    "pycharm": {
     "name": "#%%\n"
    }
   }
  },
  {
   "cell_type": "code",
   "execution_count": 4,
   "outputs": [
    {
     "name": "stdout",
     "output_type": "stream",
     "text": [
      "Successfully removed the node with the given value!\n",
      "34-->15-->"
     ]
    }
   ],
   "source": [
    "my_linked_list.remove(12)\n",
    "my_linked_list.traverse()"
   ],
   "metadata": {
    "collapsed": false,
    "pycharm": {
     "name": "#%%\n"
    }
   }
  },
  {
   "cell_type": "code",
   "execution_count": 7,
   "outputs": [
    {
     "name": "stdout",
     "output_type": "stream",
     "text": [
      "31-->34-->31-->15-->"
     ]
    }
   ],
   "source": [
    "my_linked_list.insert(val=31, pos=0)\n",
    "my_linked_list.traverse()"
   ],
   "metadata": {
    "collapsed": false,
    "pycharm": {
     "name": "#%%\n"
    }
   }
  },
  {
   "cell_type": "code",
   "execution_count": null,
   "outputs": [],
   "source": [],
   "metadata": {
    "collapsed": false,
    "pycharm": {
     "name": "#%%\n"
    }
   }
  },
  {
   "cell_type": "markdown",
   "source": [
    "# Doubly Linked List"
   ],
   "metadata": {
    "collapsed": false,
    "pycharm": {
     "name": "#%% md\n"
    }
   }
  },
  {
   "cell_type": "code",
   "execution_count": 31,
   "outputs": [],
   "source": [
    "# Create a Singly Linked Node class\n",
    "class DoubleNode:\n",
    "    def __init__(self, val):\n",
    "        self.val = val  # Accessible via dot access\n",
    "        self.next = None\n",
    "        self.prev = None\n",
    "\n",
    "\n",
    "# Create a LinkedList class\n",
    "class DoublyLinkedList:\n",
    "    def __init__(self, val=None):\n",
    "        self.head = None\n",
    "        self.tail = None\n",
    "        if val:\n",
    "            self.head = DoubleNode(val)\n",
    "            self.tail = self.head  # Both head and tail point to the same node\n",
    "\n",
    "    # Method to get length of the linked list\n",
    "    def size(self):\n",
    "        cur_node = self.head\n",
    "        count = 0\n",
    "        while cur_node:\n",
    "            count += 1\n",
    "            cur_node = cur_node.next\n",
    "        return count\n",
    "\n",
    "    # Method to insert value at position\n",
    "    def insert(self, val, pos=None):\n",
    "        \"\"\"\n",
    "        val: Value to be inserted\n",
    "        pos: Position in the linked list [0, N-1]\n",
    "        \"\"\"\n",
    "        new_node = DoubleNode(val)\n",
    "        cur_node = self.head\n",
    "        cur_pos = 0\n",
    "        while cur_node.next:\n",
    "            # If the current position is the desired position\n",
    "            if pos and cur_pos == pos - 1:\n",
    "                new_node.next = cur_node.next\n",
    "                cur_node.next = new_node\n",
    "                return\n",
    "            cur_pos += 1\n",
    "            cur_node = cur_node.next\n",
    "\n",
    "        if pos is None:  # Insert at the tail\n",
    "            new_node.prev = cur_node\n",
    "            cur_node.next = new_node\n",
    "            self.tail = new_node\n",
    "        elif pos == 0:  # Insert at the head\n",
    "            new_node.next = self.head\n",
    "            self.head.prev = new_node\n",
    "            self.head = new_node\n",
    "\n",
    "    # Method to remove a node with given value\n",
    "    def remove(self, val):\n",
    "        prev_node = None\n",
    "        cur_node = self.head\n",
    "        next_node = cur_node.next\n",
    "        while cur_node:\n",
    "            if cur_node.val == val:\n",
    "                # In case value is found at the beginning, we need to change the head\n",
    "                if prev_node is None:\n",
    "                    cur_node.prev = None\n",
    "                    self.head = cur_node.next\n",
    "                else:\n",
    "                    next_node.prev = cur_node.prev\n",
    "                    prev_node.next = cur_node.next\n",
    "                cur_node.next = None\n",
    "                print('Successfully removed the node with the given value!')\n",
    "                return True\n",
    "            prev_node = cur_node\n",
    "            cur_node = cur_node.next\n",
    "            next_node = cur_node.next\n",
    "\n",
    "        print(\"Didn't find the node with the given value!\")\n",
    "        return False\n",
    "\n",
    "    # Print the linked list in order\n",
    "    def traverse(self):\n",
    "        cur_node = self.head\n",
    "        while cur_node:\n",
    "            if cur_node.prev is None:\n",
    "                print(None, cur_node.val, cur_node.next.val)\n",
    "            elif cur_node.next is None:\n",
    "                print(cur_node.prev.val, cur_node.val, None)\n",
    "            else:\n",
    "                print(cur_node.prev.val, cur_node.val, cur_node.next.val)\n",
    "            cur_node = cur_node.next\n",
    "\n"
   ],
   "metadata": {
    "collapsed": false,
    "pycharm": {
     "name": "#%%\n"
    }
   }
  },
  {
   "cell_type": "markdown",
   "source": [
    "### Test with inputs"
   ],
   "metadata": {
    "collapsed": false,
    "pycharm": {
     "name": "#%% md\n"
    }
   }
  },
  {
   "cell_type": "code",
   "execution_count": 32,
   "outputs": [
    {
     "data": {
      "text/plain": "1"
     },
     "execution_count": 32,
     "metadata": {},
     "output_type": "execute_result"
    }
   ],
   "source": [
    "my_linked_list = DoublyLinkedList(val=34)\n",
    "my_linked_list.size()"
   ],
   "metadata": {
    "collapsed": false,
    "pycharm": {
     "name": "#%%\n"
    }
   }
  },
  {
   "cell_type": "code",
   "execution_count": 33,
   "outputs": [
    {
     "name": "stdout",
     "output_type": "stream",
     "text": [
      "None 34 12\n",
      "34 12 None\n"
     ]
    }
   ],
   "source": [
    "my_linked_list.insert(val=12)\n",
    "my_linked_list.traverse()"
   ],
   "metadata": {
    "collapsed": false,
    "pycharm": {
     "name": "#%%\n"
    }
   }
  },
  {
   "cell_type": "code",
   "execution_count": 34,
   "outputs": [
    {
     "name": "stdout",
     "output_type": "stream",
     "text": [
      "None 34 12\n",
      "34 12 15\n",
      "12 15 None\n"
     ]
    }
   ],
   "source": [
    "my_linked_list.insert(val=15)\n",
    "my_linked_list.traverse()"
   ],
   "metadata": {
    "collapsed": false,
    "pycharm": {
     "name": "#%%\n"
    }
   }
  },
  {
   "cell_type": "code",
   "execution_count": 35,
   "outputs": [
    {
     "name": "stdout",
     "output_type": "stream",
     "text": [
      "Successfully removed the node with the given value!\n",
      "None 34 15\n",
      "34 15 None\n"
     ]
    }
   ],
   "source": [
    "my_linked_list.remove(12)\n",
    "my_linked_list.traverse()"
   ],
   "metadata": {
    "collapsed": false,
    "pycharm": {
     "name": "#%%\n"
    }
   }
  },
  {
   "cell_type": "code",
   "execution_count": 36,
   "outputs": [
    {
     "name": "stdout",
     "output_type": "stream",
     "text": [
      "None 31 34\n",
      "31 34 15\n",
      "34 15 None\n"
     ]
    }
   ],
   "source": [
    "my_linked_list.insert(val=31, pos=0)\n",
    "my_linked_list.traverse()"
   ],
   "metadata": {
    "collapsed": false,
    "pycharm": {
     "name": "#%%\n"
    }
   }
  },
  {
   "cell_type": "markdown",
   "source": [
    "# Swap two nodes in a LinkedList"
   ],
   "metadata": {
    "collapsed": false,
    "pycharm": {
     "name": "#%% md\n"
    }
   }
  },
  {
   "cell_type": "code",
   "execution_count": 38,
   "outputs": [],
   "source": [
    "# Extend the original class of Singly Linked List\n",
    "class NewLinkedList(LinkedList):\n",
    "    def swap_nodes(self, val1, val2):\n",
    "        # In case both values are same\n",
    "        if val1 == val2:\n",
    "            print('Both values are same. No need to swap!')\n",
    "            return\n",
    "\n",
    "        # Move the pointers to point accordingly\n",
    "        prev_node1 = None\n",
    "        prev_node2 = None\n",
    "        cur_node1 = self.head\n",
    "        cur_node2 = self.head\n",
    "\n",
    "        while cur_node1:\n",
    "            if cur_node1.val == val1:\n",
    "                break\n",
    "            prev_node1 = cur_node1\n",
    "            cur_node1 = cur_node1.next\n",
    "\n",
    "        while cur_node2:\n",
    "            if cur_node2.val == val2:\n",
    "                break\n",
    "            prev_node2 = cur_node2\n",
    "            cur_node2 = cur_node2.next\n",
    "\n",
    "        # In case of swapping with the head node. Try to visualize the below steps using an example.\n",
    "        if prev_node1 is None:\n",
    "            self.head = cur_node2\n",
    "        else:\n",
    "            prev_node1.next = cur_node2\n",
    "\n",
    "        if prev_node2 is None:\n",
    "            self.head = cur_node1\n",
    "        else:\n",
    "            prev_node2.next = cur_node1\n",
    "\n",
    "        temp = cur_node1.next\n",
    "        cur_node1.next = cur_node2.next\n",
    "        cur_node2.next = temp"
   ],
   "metadata": {
    "collapsed": false,
    "pycharm": {
     "name": "#%%\n"
    }
   }
  },
  {
   "cell_type": "markdown",
   "source": [
    "### Test with inputs"
   ],
   "metadata": {
    "collapsed": false,
    "pycharm": {
     "name": "#%% md\n"
    }
   }
  },
  {
   "cell_type": "code",
   "execution_count": 39,
   "outputs": [],
   "source": [
    "my_linked_list = NewLinkedList(val=12)"
   ],
   "metadata": {
    "collapsed": false,
    "pycharm": {
     "name": "#%%\n"
    }
   }
  },
  {
   "cell_type": "code",
   "execution_count": 40,
   "outputs": [
    {
     "name": "stdout",
     "output_type": "stream",
     "text": [
      "12-->13-->25-->"
     ]
    }
   ],
   "source": [
    "my_linked_list.insert(13)\n",
    "my_linked_list.insert(25)\n",
    "my_linked_list.traverse()"
   ],
   "metadata": {
    "collapsed": false,
    "pycharm": {
     "name": "#%%\n"
    }
   }
  },
  {
   "cell_type": "code",
   "execution_count": 41,
   "outputs": [
    {
     "name": "stdout",
     "output_type": "stream",
     "text": [
      "25-->13-->12-->"
     ]
    }
   ],
   "source": [
    "my_linked_list.swap_nodes(12, 25)\n",
    "my_linked_list.traverse()"
   ],
   "metadata": {
    "collapsed": false,
    "pycharm": {
     "name": "#%%\n"
    }
   }
  },
  {
   "cell_type": "code",
   "execution_count": 42,
   "outputs": [
    {
     "name": "stdout",
     "output_type": "stream",
     "text": [
      "13-->25-->12-->"
     ]
    }
   ],
   "source": [
    "my_linked_list.swap_nodes(13, 25)\n",
    "my_linked_list.traverse()"
   ],
   "metadata": {
    "collapsed": false,
    "pycharm": {
     "name": "#%%\n"
    }
   }
  },
  {
   "cell_type": "code",
   "execution_count": 43,
   "outputs": [
    {
     "name": "stdout",
     "output_type": "stream",
     "text": [
      "13-->12-->25-->"
     ]
    }
   ],
   "source": [
    "my_linked_list.swap_nodes(12, 25)\n",
    "my_linked_list.traverse()"
   ],
   "metadata": {
    "collapsed": false,
    "pycharm": {
     "name": "#%%\n"
    }
   }
  },
  {
   "cell_type": "code",
   "execution_count": null,
   "outputs": [],
   "source": [],
   "metadata": {
    "collapsed": false,
    "pycharm": {
     "name": "#%%\n"
    }
   }
  },
  {
   "cell_type": "markdown",
   "source": [
    "# Two pointer techniques"
   ],
   "metadata": {
    "collapsed": false,
    "pycharm": {
     "name": "#%% md\n"
    }
   }
  },
  {
   "cell_type": "markdown",
   "source": [
    "### Moving at same speed and in parallel but some distant apart"
   ],
   "metadata": {
    "collapsed": false,
    "pycharm": {
     "name": "#%% md\n"
    }
   }
  },
  {
   "cell_type": "code",
   "execution_count": 51,
   "outputs": [
    {
     "name": "stdout",
     "output_type": "stream",
     "text": [
      "2th Value from last is 4\n"
     ]
    }
   ],
   "source": [
    "# Try getting the nth_from_last node\n",
    "my_linked_list = LinkedList(val=12)\n",
    "my_linked_list.insert(9)\n",
    "my_linked_list.insert(4)\n",
    "my_linked_list.insert(3)\n",
    "my_linked_list.insert(32)\n",
    "\n",
    "n = 2  # 2nd value from the last node excluding the last node. Should return 4.\n",
    "first = my_linked_list.head\n",
    "second = None  # This should ideally point to the node we're seeking by the time first pointer reaches the tail\n",
    "count = 0\n",
    "\n",
    "while first:\n",
    "    if count >= n:\n",
    "        if second is None:\n",
    "            second = my_linked_list.head\n",
    "        else:\n",
    "            second = second.next\n",
    "    first = first.next\n",
    "    count += 1\n",
    "\n",
    "print(f'{n}th Value from last is {second.val}')"
   ],
   "metadata": {
    "collapsed": false,
    "pycharm": {
     "name": "#%%\n"
    }
   }
  },
  {
   "cell_type": "code",
   "execution_count": null,
   "outputs": [],
   "source": [],
   "metadata": {
    "collapsed": false,
    "pycharm": {
     "name": "#%%\n"
    }
   }
  },
  {
   "cell_type": "markdown",
   "source": [
    "### Moving at different speeds"
   ],
   "metadata": {
    "collapsed": false,
    "pycharm": {
     "name": "#%% md\n"
    }
   }
  },
  {
   "cell_type": "code",
   "execution_count": 57,
   "outputs": [
    {
     "name": "stdout",
     "output_type": "stream",
     "text": [
      "Middle node value 3\n"
     ]
    }
   ],
   "source": [
    "# Find the middle node of a linked list\n",
    "my_linked_list = LinkedList(val=12)\n",
    "my_linked_list.insert(9)\n",
    "my_linked_list.insert(4)\n",
    "my_linked_list.insert(3)\n",
    "my_linked_list.insert(6)\n",
    "my_linked_list.insert(32)\n",
    "\n",
    "slow, fast = my_linked_list.head, my_linked_list.head\n",
    "\n",
    "# while fast.next:  # Works only for odd sized list\n",
    "#     slow = slow.next\n",
    "#     fast = fast.next.next\n",
    "\n",
    "# count = 0\n",
    "# while fast:  # Takes more iterations.\n",
    "#     fast = fast.get_next_node()\n",
    "#     if count % 2 != 0:\n",
    "#       slow = slow.get_next_node()\n",
    "#     count += 1\n",
    "\n",
    "while fast:\n",
    "    fast = fast.next\n",
    "    if fast:\n",
    "        fast = fast.next\n",
    "        slow = slow.next\n",
    "\n",
    "print('Middle node value', slow.val)"
   ],
   "metadata": {
    "collapsed": false,
    "pycharm": {
     "name": "#%%\n"
    }
   }
  },
  {
   "cell_type": "markdown",
   "source": [
    "Same technique can be used to detect a cycle in a linked list and rotate a linked list by k places."
   ],
   "metadata": {
    "collapsed": false,
    "pycharm": {
     "name": "#%% md\n"
    }
   }
  },
  {
   "cell_type": "code",
   "execution_count": null,
   "outputs": [],
   "source": [],
   "metadata": {
    "collapsed": false,
    "pycharm": {
     "name": "#%%\n"
    }
   }
  }
 ],
 "metadata": {
  "kernelspec": {
   "display_name": "Python 3",
   "language": "python",
   "name": "python3"
  },
  "language_info": {
   "codemirror_mode": {
    "name": "ipython",
    "version": 2
   },
   "file_extension": ".py",
   "mimetype": "text/x-python",
   "name": "python",
   "nbconvert_exporter": "python",
   "pygments_lexer": "ipython2",
   "version": "2.7.6"
  }
 },
 "nbformat": 4,
 "nbformat_minor": 0
}