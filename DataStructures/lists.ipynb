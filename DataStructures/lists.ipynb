{
 "cells": [
  {
   "cell_type": "markdown",
   "source": [
    "This notebook contains all the lists related coding problems I'm learning and solving."
   ],
   "metadata": {
    "collapsed": false,
    "pycharm": {
     "name": "#%% md\n"
    }
   }
  },
  {
   "cell_type": "markdown",
   "source": [
    "# List rotation\n",
    "#### O(N) Space and O(1) Time complexity"
   ],
   "metadata": {
    "collapsed": false,
    "pycharm": {
     "name": "#%% md\n"
    }
   }
  },
  {
   "cell_type": "code",
   "execution_count": 1,
   "outputs": [
    {
     "name": "stdout",
     "output_type": "stream",
     "text": [
      "[3, 4, 5, 1, 2]\n",
      "[4, 5, 1, 2, 3]\n"
     ]
    }
   ],
   "source": [
    "# Left rotation by k steps\n",
    "def rotate_list_left(lst_in, k):\n",
    "    k = k % len(lst_in)  # In case k is greater than the length of the list\n",
    "    # return a sliced copy of the list\n",
    "    return lst_in[k:] + lst_in[:k]\n",
    "\n",
    "\n",
    "# Right rotation by k steps\n",
    "def rotate_list_right(lst_in, k):\n",
    "    k = k % len(lst_in)\n",
    "    return lst_in[-k:] + lst_in[:-k]\n",
    "\n",
    "\n",
    "rl_input = [1, 2, 3, 4, 5]\n",
    "print(rotate_list_left(rl_input, k=2))\n",
    "print(rotate_list_right(rl_input, k=2))"
   ],
   "metadata": {
    "collapsed": false,
    "pycharm": {
     "name": "#%%\n"
    }
   }
  },
  {
   "cell_type": "markdown",
   "source": [
    "#### O(1) Space complexity and O(N) Time complexity - in place solution"
   ],
   "metadata": {
    "collapsed": false,
    "pycharm": {
     "name": "#%% md\n"
    }
   }
  },
  {
   "cell_type": "code",
   "execution_count": 9,
   "outputs": [
    {
     "name": "stdout",
     "output_type": "stream",
     "text": [
      "[3, 4, 5, 6, 1, 2]\n",
      "[3, 4, 5, 6, 1, 2]\n",
      "\n",
      "\n",
      "[5, 6, 1, 2, 3, 4]\n",
      "[5, 6, 1, 2, 3, 4]\n"
     ]
    }
   ],
   "source": [
    "# Left rotation by k steps\n",
    "def rotate_list_left(lst_in, k):\n",
    "    n = len(lst_in)\n",
    "    k = k % n\n",
    "\n",
    "    # Define a reverse helper function that can reverse part of a list\n",
    "    def reverse_helper(arr, st_idx, en_idx):\n",
    "        # Use two pointer approach to reverse in this manner (inclusive of en_idx)\n",
    "        left, right = st_idx, en_idx\n",
    "        # Swap left and right values until left > right by moving both the pointers towards the center\n",
    "        while left < right:\n",
    "            arr[left], arr[right] = arr[right], arr[left]\n",
    "            left += 1\n",
    "            right -= 1\n",
    "        # return arr  # Might not be necessary in python\n",
    "\n",
    "    # Reverse the entire list\n",
    "    lst_in.reverse()\n",
    "    # Reverse the left half\n",
    "    reverse_helper(lst_in, 0, n - k - 1)\n",
    "    # Reverse the right half\n",
    "    reverse_helper(lst_in, n - k, n - 1)\n",
    "    return lst_in\n",
    "\n",
    "\n",
    "# Right rotation by k steps\n",
    "def rotate_list_right(lst_in, k):\n",
    "    n = len(lst_in)\n",
    "    k = k % n\n",
    "\n",
    "    # Define a reverse helper function that can reverse part of a list\n",
    "    def reverse_helper(arr, st_idx, en_idx):\n",
    "        # Use two pointer approach to reverse in this manner (inclusive of en_idx)\n",
    "        left, right = st_idx, en_idx\n",
    "        # Swap left and right values until left > right by moving both the pointers towards the center\n",
    "        while left < right:\n",
    "            arr[left], arr[right] = arr[right], arr[left]\n",
    "            left += 1\n",
    "            right -= 1\n",
    "        # return arr  # Might not be necessary in python\n",
    "\n",
    "    # Reverse the entire list\n",
    "    lst_in.reverse()\n",
    "    # Reverse the left half\n",
    "    reverse_helper(lst_in, 0, k - 1)\n",
    "    # Reverse the right half\n",
    "    reverse_helper(lst_in, k, n - 1)\n",
    "    return lst_in\n",
    "\n",
    "\n",
    "rl_input = [1, 2, 3, 4, 5, 6]\n",
    "print(rotate_list_left(rl_input, k=2))\n",
    "print(rl_input)\n",
    "print('\\n')\n",
    "rl_input = [1, 2, 3, 4, 5, 6]  # Because in-place solution is modifying the input list\n",
    "print(rotate_list_right(rl_input, k=2))\n",
    "print(rl_input)"
   ],
   "metadata": {
    "collapsed": false,
    "pycharm": {
     "name": "#%%\n"
    }
   }
  },
  {
   "cell_type": "markdown",
   "source": [
    "# Sorted rotated list\n",
    "Find the point of rotation.\n",
    "#### O(1) Space and O(N) Time"
   ],
   "metadata": {
    "collapsed": false,
    "pycharm": {
     "name": "#%% md\n"
    }
   }
  },
  {
   "cell_type": "code",
   "execution_count": 12,
   "outputs": [
    {
     "name": "stdout",
     "output_type": "stream",
     "text": [
      "2\n",
      "0\n"
     ]
    }
   ],
   "source": [
    "# Linear search\n",
    "def find_rotation_point(lst_in):\n",
    "    # lst_in = sorted rotated list\n",
    "    # Since the list is sorted, there exists one point where the previous element is greater than next element\n",
    "    # The answer is simply the minimum value\n",
    "    # for idx, num in enumerate(lst_in):\n",
    "    #     # In case we're at the end of the list, that means the point of rotation is 0\n",
    "    #     if idx == len(lst_in) - 1:\n",
    "    #         return 0\n",
    "    #     # Compare the current number with the next number\n",
    "    #     if num > lst_in[idx + 1]:\n",
    "    #         return idx + 1\n",
    "\n",
    "    # Alternatively, using range function\n",
    "    for idx in range(len(lst_in) - 1):\n",
    "        if lst_in[idx] > lst_in[idx + 1]:\n",
    "            return idx + 1\n",
    "    return 0\n",
    "\n",
    "\n",
    "frp_input = [4, 5, 1, 2, 3]\n",
    "print(find_rotation_point(frp_input))\n",
    "frp_input = [1, 2, 3, 4, 5]\n",
    "print(find_rotation_point(frp_input))"
   ],
   "metadata": {
    "collapsed": false,
    "pycharm": {
     "name": "#%%\n"
    }
   }
  },
  {
   "cell_type": "markdown",
   "source": [
    "#### O(1) Space and O(log N) Time"
   ],
   "metadata": {
    "collapsed": false,
    "pycharm": {
     "name": "#%% md\n"
    }
   }
  },
  {
   "cell_type": "code",
   "execution_count": 25,
   "outputs": [
    {
     "name": "stdout",
     "output_type": "stream",
     "text": [
      "4\n",
      "0\n",
      "2\n"
     ]
    }
   ],
   "source": [
    "# Binary search\n",
    "def find_rotation_point(lst_in):\n",
    "    # We can narrow down our search by half using binary search strategy\n",
    "    # If the rotation point was in the left half, then mid index value will be less than the left pointer value\n",
    "    # Similarly, with the right half\n",
    "    n = len(lst_in)\n",
    "    left, right = 0, n - 1\n",
    "\n",
    "    # Try to make left point to the rotation point\n",
    "    while lst_in[left] > lst_in[right]:  # Move the pointers until the left element is higher than the right element\n",
    "        mid = (left + right) // 2\n",
    "        # Right half\n",
    "        if lst_in[mid] > lst_in[right]:\n",
    "            left = mid + 1\n",
    "        else:\n",
    "            right = mid\n",
    "\n",
    "    return left\n",
    "\n",
    "\n",
    "frp_input = [3, 4, 5, 6, 1, 2, 2.5]  # Right half\n",
    "print(find_rotation_point(frp_input))\n",
    "frp_input = [1, 2, 3, 4, 5]  # No rotation\n",
    "print(find_rotation_point(frp_input))\n",
    "frp_input = [6, 7, 1, 2, 3, 4]  # Left half\n",
    "print(find_rotation_point(frp_input))"
   ],
   "metadata": {
    "collapsed": false,
    "pycharm": {
     "name": "#%%\n"
    }
   }
  },
  {
   "cell_type": "markdown",
   "source": [
    "# Remove duplicates from a list\n",
    "#### O(N) Space and O(N^2) Time"
   ],
   "metadata": {
    "collapsed": false,
    "pycharm": {
     "name": "#%% md\n"
    }
   }
  },
  {
   "cell_type": "code",
   "execution_count": 28,
   "outputs": [
    {
     "name": "stdout",
     "output_type": "stream",
     "text": [
      "[1, 2, 3, 4, 5]\n",
      "['a', 1, 2, '2', 3, 'b']\n",
      "[1, 2, 3, 4, 5]\n"
     ]
    }
   ],
   "source": [
    "# Using a new list\n",
    "def remove_duplicates(lst_in):\n",
    "    lst_out = []  # A set can be used to make things faster\n",
    "    # lst_out = set()\n",
    "\n",
    "    # Both set and list have to be used if you want to preserve the order\n",
    "    # s = set(); n = 0\n",
    "    # for x in lst_in:\n",
    "    #     if x not in s: s.add(x); lst_in[n] = x; n += 1\n",
    "    # del lst_in[n:]\n",
    "    # return lst_in\n",
    "\n",
    "    for num in lst_in:\n",
    "        if num not in lst_out:  # This might take O(N) Time\n",
    "            lst_out.append(num)\n",
    "            # lst_out.add(num)\n",
    "    return lst_out\n",
    "\n",
    "\n",
    "rd_input = [1, 1, 2, 3, 2, 3, 2, 4, 5, 4]\n",
    "print(remove_duplicates(rd_input))\n",
    "# Edge cases\n",
    "rd_input = ['a', 'a', 1, 1, 2, '2', 3, 3, 'b', 'b']  # Mix of data types\n",
    "print(remove_duplicates(rd_input))\n",
    "rd_input = [1, 1, 2, 3, 2, 3, 2, 4, 5, 4]  # Not sorted\n",
    "print(remove_duplicates(rd_input))"
   ],
   "metadata": {
    "collapsed": false,
    "pycharm": {
     "name": "#%%\n"
    }
   }
  },
  {
   "cell_type": "markdown",
   "source": [],
   "metadata": {
    "collapsed": false,
    "pycharm": {
     "name": "#%% md\n"
    }
   }
  },
  {
   "cell_type": "markdown",
   "source": [
    "#### O(1) Space and O(N) Time\n",
    "For a sorted list with duplicates. Try to move the duplicates to the end and return the unique values.\n",
    "\n",
    "[Check Codeacademy for the solution](https://www.codecademy.com/courses/technical-interview-practice-python/lessons/tip-python-lists/exercises/tip-python-lists-review)"
   ],
   "metadata": {
    "collapsed": false,
    "pycharm": {
     "name": "#%% md\n"
    }
   }
  },
  {
   "cell_type": "code",
   "execution_count": null,
   "outputs": [],
   "source": [
    "# Find the index of the last unique value after moving the duplicate values to the end\n",
    "rd_input = [1, 1, 2, 2, 3, 3, 3, 4, 4, 5]\n",
    "# Edge cases\n",
    "# rd_input = ['a', 'a', 1, 1, 2, '2', 3, 3, 'b', 'b'] # Mix of data types\n",
    "# rd_input = [1, 1, 2, 3, 2, 3, 2, 4, 5, 4] # Not sorted"
   ],
   "metadata": {
    "collapsed": false,
    "pycharm": {
     "name": "#%%\n"
    }
   }
  },
  {
   "cell_type": "markdown",
   "source": [
    "# Max list sub-sum\n",
    "Find the maximum possible sum of a consecutive sub-list\n",
    "#### O(1) Space and O(N^2) Time"
   ],
   "metadata": {
    "collapsed": false,
    "pycharm": {
     "name": "#%% md\n"
    }
   }
  },
  {
   "cell_type": "code",
   "execution_count": 41,
   "outputs": [
    {
     "name": "stdout",
     "output_type": "stream",
     "text": [
      "17\n",
      "0\n"
     ]
    }
   ],
   "source": [
    "# Naive solution\n",
    "def max_sub_sum(lst_in):\n",
    "    # Smallest possible int can be taken here instead of 0\n",
    "    final_sum = 0  # final_sum = 0 is wrong because 0 might not be the largest sum everytime\n",
    "    for i in range(len(lst_in)):\n",
    "        inner_sum = lst_in[i]\n",
    "        for j in range(i + 1, len(lst_in)):\n",
    "            inner_sum += lst_in[j]\n",
    "            # Update final_sum\n",
    "            final_sum = max(final_sum, inner_sum)\n",
    "    return final_sum\n",
    "\n",
    "\n",
    "# Inputs\n",
    "mss_input = [-17, -1, 0, 15, 2]\n",
    "print(max_sub_sum(mss_input))\n",
    "# Edge cases\n",
    "mss_input = [-5, -3, -1, -2, -1]  # all negative numbers\n",
    "print(max_sub_sum(mss_input))  # solution is not working"
   ],
   "metadata": {
    "collapsed": false,
    "pycharm": {
     "name": "#%%\n"
    }
   }
  },
  {
   "cell_type": "markdown",
   "source": [],
   "metadata": {
    "collapsed": false,
    "pycharm": {
     "name": "#%% md\n"
    }
   }
  },
  {
   "cell_type": "markdown",
   "source": [
    "#### O(1) Space and O(N) Time"
   ],
   "metadata": {
    "collapsed": false,
    "pycharm": {
     "name": "#%% md\n"
    }
   }
  },
  {
   "cell_type": "code",
   "execution_count": 42,
   "outputs": [
    {
     "name": "stdout",
     "output_type": "stream",
     "text": [
      "17\n",
      "-1\n"
     ]
    }
   ],
   "source": [
    "# Optimized solution\n",
    "\n",
    "def max_sub_sum(lst_in):\n",
    "    # Keep track of final_sum and update it only if the inner_sum increases to more than current element\n",
    "    # else reset the inner_sum to the current element\n",
    "    final_sum = lst_in[0]  # final_sum = 0 is wrong because 0 might not be the largest sum everytime\n",
    "    inner_sum = lst_in[0]\n",
    "    for i in range(1, len(lst_in)):\n",
    "        # Check if the inner_sum is increasing\n",
    "        inner_sum = max(inner_sum + lst_in[i], lst_in[i])\n",
    "        final_sum = max(final_sum, inner_sum)\n",
    "    return final_sum\n",
    "\n",
    "\n",
    "# Inputs\n",
    "mss_input = [-17, -1, 0, 15, 2]\n",
    "print(max_sub_sum(mss_input))\n",
    "# Edge cases\n",
    "mss_input = [-5, -3, -1, -2, -1]\n",
    "print(max_sub_sum(mss_input))"
   ],
   "metadata": {
    "collapsed": false,
    "pycharm": {
     "name": "#%%\n"
    }
   }
  },
  {
   "cell_type": "code",
   "execution_count": null,
   "outputs": [],
   "source": [],
   "metadata": {
    "collapsed": false,
    "pycharm": {
     "name": "#%%\n"
    }
   }
  }
 ],
 "metadata": {
  "kernelspec": {
   "display_name": "Python 3",
   "language": "python",
   "name": "python3"
  },
  "language_info": {
   "codemirror_mode": {
    "name": "ipython",
    "version": 2
   },
   "file_extension": ".py",
   "mimetype": "text/x-python",
   "name": "python",
   "nbconvert_exporter": "python",
   "pygments_lexer": "ipython2",
   "version": "2.7.6"
  }
 },
 "nbformat": 4,
 "nbformat_minor": 0
}