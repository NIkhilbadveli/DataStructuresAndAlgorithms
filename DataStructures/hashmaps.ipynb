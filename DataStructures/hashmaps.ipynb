{
 "cells": [
  {
   "cell_type": "code",
   "execution_count": null,
   "metadata": {
    "collapsed": true,
    "pycharm": {
     "name": "#%%\n"
    }
   },
   "outputs": [],
   "source": [
    "# Create a HashMap class with Open Addressing collision strategy. Alternatively, we can do separate chaining strategy.\n",
    "class HashMap:\n",
    "    def __init__(self, array_size):\n",
    "        self.array_size = array_size\n",
    "        self.array = [None for _ in range(array_size)]\n",
    "\n",
    "    # Define a hash function that returns a hash_code given a key.\n",
    "    def hash(self, key, count_collisions=0):\n",
    "        hash_code = sum(key.encode())  # Sum of the raw bytes from the key\n",
    "        return hash_code + count_collisions  # In case of collisions\n",
    "\n",
    "    def compressor(self, hash_code):\n",
    "        return hash_code % self.array_size\n",
    "\n",
    "    def assign(self, key, value):\n",
    "        # Write the function that assigns a value to the key after hashing it and handling the collision properly.\n",
    "        pass\n",
    "\n",
    "    def retrieve(self, key):\n",
    "        # Retrieve the value for the given key assuming there's a possibility of collision within the hashmap.\n",
    "        pass"
   ]
  }
 ],
 "metadata": {
  "kernelspec": {
   "display_name": "Python 3",
   "language": "python",
   "name": "python3"
  },
  "language_info": {
   "codemirror_mode": {
    "name": "ipython",
    "version": 2
   },
   "file_extension": ".py",
   "mimetype": "text/x-python",
   "name": "python",
   "nbconvert_exporter": "python",
   "pygments_lexer": "ipython2",
   "version": "2.7.6"
  }
 },
 "nbformat": 4,
 "nbformat_minor": 0
}