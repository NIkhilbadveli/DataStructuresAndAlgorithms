{
 "cells": [
  {
   "cell_type": "markdown",
   "source": [
    "# Linear search"
   ],
   "metadata": {
    "collapsed": false,
    "pycharm": {
     "name": "#%% md\n"
    }
   }
  },
  {
   "cell_type": "code",
   "execution_count": 2,
   "outputs": [
    {
     "name": "stdout",
     "output_type": "stream",
     "text": [
      "mango found at index 3\n"
     ]
    }
   ],
   "source": [
    "def linear_search(lst_in, target):\n",
    "    for idx, el in enumerate(lst_in):\n",
    "        if el == target:\n",
    "            return idx\n",
    "    return -1\n",
    "\n",
    "\n",
    "fruits = ['apple', 'banana', 'papaya', 'mango', 'kiwi', 'grape', 'strawberry']\n",
    "x = 'mango'\n",
    "print(f'{x} found at index {linear_search(fruits, x)}')"
   ],
   "metadata": {
    "collapsed": false,
    "pycharm": {
     "name": "#%%\n"
    }
   }
  },
  {
   "cell_type": "code",
   "execution_count": null,
   "outputs": [],
   "source": [],
   "metadata": {
    "collapsed": false,
    "pycharm": {
     "name": "#%%\n"
    }
   }
  },
  {
   "cell_type": "markdown",
   "source": [
    "# Binary search"
   ],
   "metadata": {
    "collapsed": false,
    "pycharm": {
     "name": "#%% md\n"
    }
   }
  },
  {
   "cell_type": "markdown",
   "source": [
    "### Iteratively"
   ],
   "metadata": {
    "collapsed": false,
    "pycharm": {
     "name": "#%% md\n"
    }
   }
  },
  {
   "cell_type": "code",
   "execution_count": 50,
   "outputs": [],
   "source": [
    "# Iteratively do binary search. Only works with sorted input.\n",
    "def binary_search(lst_in, target):\n",
    "    # Alternative way of writing below logic\n",
    "    # left, right = 0, len(lst_in)\n",
    "    # while left < right:\n",
    "    #     mid = (left + right) // 2\n",
    "    #     print(left, mid, right)\n",
    "    #     if lst_in[mid] > target:\n",
    "    #         right = mid\n",
    "    #     elif lst_in[mid] < target:\n",
    "    #         left = mid + 1\n",
    "    left, right = 0, len(lst_in) - 1\n",
    "    while left <= right:\n",
    "        mid = (left + right) // 2\n",
    "        print(left, mid, right)\n",
    "        if lst_in[mid] > target:\n",
    "            right = mid - 1\n",
    "        elif lst_in[mid] < target:\n",
    "            left = mid + 1\n",
    "        else:\n",
    "            return mid\n",
    "    return -1"
   ],
   "metadata": {
    "collapsed": false,
    "pycharm": {
     "name": "#%%\n"
    }
   }
  },
  {
   "cell_type": "code",
   "execution_count": 52,
   "outputs": [
    {
     "name": "stdout",
     "output_type": "stream",
     "text": [
      "0 3 7\n",
      "4 5 7\n",
      "6 6 7\n",
      "7 7 7\n",
      "16 found at index 7\n"
     ]
    }
   ],
   "source": [
    "fruits = [2, 4, 5, 6, 9, 12, 13, 16]\n",
    "x = 16\n",
    "print(f'{x} found at index {binary_search(fruits, x)}')"
   ],
   "metadata": {
    "collapsed": false,
    "pycharm": {
     "name": "#%%\n"
    }
   }
  },
  {
   "cell_type": "code",
   "execution_count": null,
   "outputs": [],
   "source": [],
   "metadata": {
    "collapsed": false,
    "pycharm": {
     "name": "#%%\n"
    }
   }
  },
  {
   "cell_type": "markdown",
   "source": [
    "### Recursively"
   ],
   "metadata": {
    "collapsed": false,
    "pycharm": {
     "name": "#%% md\n"
    }
   }
  },
  {
   "cell_type": "code",
   "execution_count": 48,
   "outputs": [],
   "source": [
    "# Recursively do binary search.\n",
    "def binary_search(lst_in, target, left, right):\n",
    "    # If left becomes more than right, that means no value is found\n",
    "    if left > right:  # Base case 1\n",
    "        return -1\n",
    "\n",
    "    mid = (left + right) // 2\n",
    "    print(left, mid, right)\n",
    "    if lst_in[mid] > target:\n",
    "        return binary_search(lst_in, target, left, mid)\n",
    "    elif lst_in[mid] < target:\n",
    "        return binary_search(lst_in, target, mid + 1, right)\n",
    "    else:  # Base case 2\n",
    "        return mid"
   ],
   "metadata": {
    "collapsed": false,
    "pycharm": {
     "name": "#%%\n"
    }
   }
  },
  {
   "cell_type": "code",
   "execution_count": 49,
   "outputs": [
    {
     "name": "stdout",
     "output_type": "stream",
     "text": [
      "0 4 8\n",
      "0 2 4\n",
      "0 1 2\n",
      "4 found at index 1\n"
     ]
    }
   ],
   "source": [
    "fruits = [2, 4, 5, 6, 9, 12, 13, 16]\n",
    "x = 4\n",
    "print(f'{x} found at index {binary_search(fruits, x, 0, len(fruits))}')"
   ],
   "metadata": {
    "collapsed": false,
    "pycharm": {
     "name": "#%%\n"
    }
   }
  },
  {
   "cell_type": "code",
   "execution_count": null,
   "outputs": [],
   "source": [],
   "metadata": {
    "collapsed": false,
    "pycharm": {
     "name": "#%%\n"
    }
   }
  },
  {
   "cell_type": "markdown",
   "source": [
    "# Breadth First Search"
   ],
   "metadata": {
    "collapsed": false,
    "pycharm": {
     "name": "#%% md\n"
    }
   }
  },
  {
   "cell_type": "code",
   "execution_count": null,
   "outputs": [],
   "source": [],
   "metadata": {
    "collapsed": false,
    "pycharm": {
     "name": "#%%\n"
    }
   }
  },
  {
   "cell_type": "markdown",
   "source": [
    "# Depth First Search"
   ],
   "metadata": {
    "collapsed": false,
    "pycharm": {
     "name": "#%% md\n"
    }
   }
  },
  {
   "cell_type": "code",
   "execution_count": null,
   "outputs": [],
   "source": [],
   "metadata": {
    "collapsed": false,
    "pycharm": {
     "name": "#%%\n"
    }
   }
  },
  {
   "cell_type": "markdown",
   "source": [
    "# $A^{*}$ Search"
   ],
   "metadata": {
    "collapsed": false,
    "pycharm": {
     "name": "#%% md\n"
    }
   }
  },
  {
   "cell_type": "code",
   "execution_count": null,
   "outputs": [],
   "source": [],
   "metadata": {
    "collapsed": false,
    "pycharm": {
     "name": "#%%\n"
    }
   }
  }
 ],
 "metadata": {
  "kernelspec": {
   "display_name": "Python 3",
   "language": "python",
   "name": "python3"
  },
  "language_info": {
   "codemirror_mode": {
    "name": "ipython",
    "version": 2
   },
   "file_extension": ".py",
   "mimetype": "text/x-python",
   "name": "python",
   "nbconvert_exporter": "python",
   "pygments_lexer": "ipython2",
   "version": "2.7.6"
  }
 },
 "nbformat": 4,
 "nbformat_minor": 0
}