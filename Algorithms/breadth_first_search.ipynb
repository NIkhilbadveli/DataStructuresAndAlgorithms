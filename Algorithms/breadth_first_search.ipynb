{
 "cells": [
  {
   "cell_type": "markdown",
   "metadata": {
    "collapsed": true,
    "pycharm": {
     "name": "#%% md\n"
    }
   },
   "source": [
    "Also, called as \"Level order traversal\".\n",
    "\n",
    "In this algorithm, we try to visit all the nodes at the same level.\n",
    "\n",
    "We can use a queue to store the nodes at the same level. And another list to store the already visited nodes.\n",
    "The input can be a tree or a graph which is represented by a list of lists or a dict called \"adjacency list\".\n",
    "Each list in the adjacency list represents a node and the elements in the list are the nodes it is connected to."
   ]
  },
  {
   "cell_type": "code",
   "execution_count": 16,
   "outputs": [],
   "source": [
    "def bfs_iteratively(adj_list, start):\n",
    "    \"\"\"\n",
    "    Iteratively implement the breadth-first search algorithm.\n",
    "    :param adj_list:\n",
    "    :param start:\n",
    "    :return:\n",
    "    \"\"\"\n",
    "    visited = [start]\n",
    "    queue = [start]\n",
    "    while queue and len(visited) < len(adj_list):\n",
    "        node = queue.pop(0)\n",
    "        for neighbor in adj_list[node]:\n",
    "            if neighbor not in visited:\n",
    "                visited.append(neighbor)\n",
    "                queue.append(neighbor)\n",
    "    return visited\n",
    "\n",
    "def bfs_recursively(adj_list, start, visited=None):\n",
    "    \"\"\"\n",
    "    Recursively implement the breadth-first search algorithm.\n",
    "    :param adj_list:\n",
    "    :param start:\n",
    "    :param visited:\n",
    "    :return:\n",
    "    \"\"\"\n",
    "    if visited is None:\n",
    "        visited = [start]\n",
    "\n",
    "    added = []\n",
    "    for neighbor in adj_list[start]:\n",
    "        if neighbor not in visited:\n",
    "            visited.append(neighbor)\n",
    "            added.append(neighbor)\n",
    "\n",
    "    for neighbor in added:\n",
    "        visited = bfs_recursively(adj_list, neighbor, visited)\n",
    "\n",
    "    return visited"
   ],
   "metadata": {
    "collapsed": false,
    "pycharm": {
     "name": "#%%\n"
    }
   }
  },
  {
   "cell_type": "code",
   "execution_count": 17,
   "outputs": [
    {
     "name": "stdout",
     "output_type": "stream",
     "text": [
      "['A', 'B', 'C', 'D', 'E', 'F']\n",
      "['A', 'B', 'C', 'D', 'E', 'F']\n"
     ]
    }
   ],
   "source": [
    "graph = {\n",
    "    'A': ['B', 'C'],\n",
    "    'B': ['D', 'E'],\n",
    "    'C': ['F'],\n",
    "    'D': [],\n",
    "    'E': [],\n",
    "    'F': []\n",
    "}\n",
    "\n",
    "print(bfs_iteratively(graph, 'A'))\n",
    "print(bfs_recursively(graph, 'A'))"
   ],
   "metadata": {
    "collapsed": false,
    "pycharm": {
     "name": "#%%\n"
    }
   }
  },
  {
   "cell_type": "code",
   "execution_count": null,
   "outputs": [],
   "source": [],
   "metadata": {
    "collapsed": false,
    "pycharm": {
     "name": "#%%\n"
    }
   }
  }
 ],
 "metadata": {
  "kernelspec": {
   "display_name": "Python 3",
   "language": "python",
   "name": "python3"
  },
  "language_info": {
   "codemirror_mode": {
    "name": "ipython",
    "version": 2
   },
   "file_extension": ".py",
   "mimetype": "text/x-python",
   "name": "python",
   "nbconvert_exporter": "python",
   "pygments_lexer": "ipython2",
   "version": "2.7.6"
  }
 },
 "nbformat": 4,
 "nbformat_minor": 0
}