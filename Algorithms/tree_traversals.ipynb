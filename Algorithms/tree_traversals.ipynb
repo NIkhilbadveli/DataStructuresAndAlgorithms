{
 "cells": [
  {
   "cell_type": "code",
   "execution_count": null,
   "metadata": {
    "collapsed": true
   },
   "outputs": [],
   "source": [
    "def preorder_recursively(root):\n",
    "    \"\"\"\n",
    "    Recursively traverse the tree in pre-order fashion\n",
    "    :param root:\n",
    "    :return:\n",
    "    \"\"\"\n",
    "    if not root:\n",
    "        return\n",
    "    print(root.data, end=' ')\n",
    "    preorder_recursively(root.left)\n",
    "    preorder_recursively(root.right)\n",
    "\n",
    "def postorder_recursively(root):\n",
    "    \"\"\"\n",
    "    Recursively traverse the tree in post-order fashion\n",
    "    :param root:\n",
    "    :return:\n",
    "    \"\"\"\n",
    "    if not root:\n",
    "        return\n",
    "\n",
    "    postorder_recursively(root.left)\n",
    "    postorder_recursively(root.right)\n",
    "    print(root.data, end=' ')\n",
    "\n",
    "def inorder_recursively(root):\n",
    "    \"\"\"\n",
    "    Recursively traverse the tree in post-order fashion\n",
    "    :param root:\n",
    "    :return:\n",
    "    \"\"\"\n",
    "    if not root:\n",
    "        return\n",
    "\n",
    "    inorder_recursively(root.left)\n",
    "    print(root.data, end=' ')\n",
    "    inorder_recursively(root.right)"
   ]
  }
 ],
 "metadata": {
  "kernelspec": {
   "display_name": "Python 3",
   "language": "python",
   "name": "python3"
  },
  "language_info": {
   "codemirror_mode": {
    "name": "ipython",
    "version": 2
   },
   "file_extension": ".py",
   "mimetype": "text/x-python",
   "name": "python",
   "nbconvert_exporter": "python",
   "pygments_lexer": "ipython2",
   "version": "2.7.6"
  }
 },
 "nbformat": 4,
 "nbformat_minor": 0
}