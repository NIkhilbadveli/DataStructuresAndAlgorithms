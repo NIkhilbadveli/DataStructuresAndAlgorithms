{
 "cells": [
  {
   "cell_type": "markdown",
   "metadata": {
    "collapsed": true,
    "pycharm": {
     "name": "#%% md\n"
    }
   },
   "source": [
    "This is closely related to \"Pre-order traversal\".\n",
    "\n",
    "In this algorithm, we try to visit all the nodes until the final leaf node down a path.\n",
    "\n",
    "We can use a stack to store the nodes along the same path. And another list to store the already visited nodes.\n",
    "The input can be a tree or a graph which is represented by a list of lists or a dict called \"adjacency list\".\n",
    "Each list in the adjacency list represents a node and the elements in the list are the nodes it is connected to."
   ]
  },
  {
   "cell_type": "code",
   "execution_count": 12,
   "outputs": [],
   "source": [
    "def dfs_iteratively(adj_list, start):\n",
    "    \"\"\"\n",
    "    Iteratively perform depth-first search on a graph.\n",
    "    :param adj_list:\n",
    "    :param start:\n",
    "    :return:\n",
    "    \"\"\"\n",
    "    stack = [start]\n",
    "    visited = []\n",
    "    while stack:\n",
    "        node = stack.pop()\n",
    "        if node in visited:\n",
    "            continue\n",
    "        else:\n",
    "            visited.append(node)\n",
    "            for neighbor in reversed(adj_list[node]):  # reversed the neighbors since we're using a stack\n",
    "                if neighbor not in visited:\n",
    "                    stack.append(neighbor)\n",
    "    return visited\n",
    "\n",
    "def dfs_recursively(adj_list, start, visited=None):\n",
    "    \"\"\"\n",
    "    Recursively implement depth-first-search.\n",
    "    :param adj_list:\n",
    "    :param start:\n",
    "    :param visited:\n",
    "    :return:\n",
    "    \"\"\"\n",
    "    if visited is None:\n",
    "        visited = []\n",
    "    visited.append(start)\n",
    "\n",
    "    for neighbor in adj_list[start]:\n",
    "        if neighbor not in visited:\n",
    "            visited = dfs_recursively(adj_list, neighbor, visited)\n",
    "    return visited"
   ],
   "metadata": {
    "collapsed": false,
    "pycharm": {
     "name": "#%%\n"
    }
   }
  },
  {
   "cell_type": "code",
   "execution_count": 13,
   "outputs": [
    {
     "name": "stdout",
     "output_type": "stream",
     "text": [
      "['A', 'B', 'D', 'E', 'C', 'F']\n",
      "['A', 'B', 'D', 'E', 'C', 'F']\n"
     ]
    }
   ],
   "source": [
    "graph = {\n",
    "    'A': ['B', 'C'],\n",
    "    'B': ['D', 'E'],\n",
    "    'C': ['F'],\n",
    "    'D': [],\n",
    "    'E': [],\n",
    "    'F': []\n",
    "}\n",
    "\n",
    "print(dfs_iteratively(graph, 'A'))\n",
    "print(dfs_recursively(graph, 'A'))"
   ],
   "metadata": {
    "collapsed": false,
    "pycharm": {
     "name": "#%%\n"
    }
   }
  },
  {
   "cell_type": "code",
   "execution_count": null,
   "outputs": [],
   "source": [],
   "metadata": {
    "collapsed": false,
    "pycharm": {
     "name": "#%%\n"
    }
   }
  }
 ],
 "metadata": {
  "kernelspec": {
   "display_name": "Python 3",
   "language": "python",
   "name": "python3"
  },
  "language_info": {
   "codemirror_mode": {
    "name": "ipython",
    "version": 2
   },
   "file_extension": ".py",
   "mimetype": "text/x-python",
   "name": "python",
   "nbconvert_exporter": "python",
   "pygments_lexer": "ipython2",
   "version": "2.7.6"
  }
 },
 "nbformat": 4,
 "nbformat_minor": 0
}